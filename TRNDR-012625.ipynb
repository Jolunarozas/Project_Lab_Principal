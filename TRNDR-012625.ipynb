{
 "cells": [
  {
   "cell_type": "code",
   "execution_count": 10,
   "id": "a982b95b",
   "metadata": {},
   "outputs": [],
   "source": [
    "import math\n",
    "import numpy as np\n",
    "import pandas as pd\n",
    "import random"
   ]
  },
  {
   "cell_type": "code",
   "execution_count": 8,
   "id": "dcf1daf9",
   "metadata": {},
   "outputs": [
    {
     "name": "stdout",
     "output_type": "stream",
     "text": [
      "2026-01-09 16:00:00\n"
     ]
    }
   ],
   "source": [
    "times = []\n",
    "start_time = pd.Timestamp(2025, 1, 27, 9, 30)\n",
    "time = start_time\n",
    "for i in range(10000):\n",
    "    times.append(time)\n",
    "    if time.hour == 16:\n",
    "        time += pd.Timedelta(hours=17, minutes=30)\n",
    "        if time.day_of_week == 5:\n",
    "            time += pd.Timedelta(days=2)\n",
    "    else:\n",
    "        time += pd.Timedelta(minutes=10)\n",
    "print(times[-1])"
   ]
  },
  {
   "cell_type": "code",
   "execution_count": null,
   "id": "77d9a5a8",
   "metadata": {},
   "outputs": [],
   "source": [
    "prices = [1000000]\n",
    "price = 1000000\n",
    "vols = [0.00005] # per 10 minutes\n",
    "vol = 0.00005\n",
    "mu = 0.000001 # per 10 minutes\n",
    "kappa = 0.05 # per 10 minutes\n",
    "theta = 0.00005 # per 10 minutes\n",
    "xi = 0.003 # per 10 minutes\n",
    "jump_p = 0.0005 # per 10 minutes\n",
    "logYvol = 0.1\n",
    "for i in range(1, 10000):\n",
    "    dW1 = np.random.normal(loc=0, scale=1)\n",
    "    dW2 = np.random.normal(loc=0, scale=1)\n",
    "    dS = mu * price + np.sqrt(vol) * price * dW1\n",
    "    if random.random() < jump_p:\n",
    "        Y = np.random.normal(loc=0, scale=logYvol)\n",
    "        dS += math.exp(Y)"
   ]
  },
  {
   "cell_type": "code",
   "execution_count": null,
   "id": "6bf2fc9d",
   "metadata": {},
   "outputs": [],
   "source": []
  }
 ],
 "metadata": {
  "kernelspec": {
   "display_name": "Python 3 (ipykernel)",
   "language": "python",
   "name": "python3"
  },
  "language_info": {
   "codemirror_mode": {
    "name": "ipython",
    "version": 3
   },
   "file_extension": ".py",
   "mimetype": "text/x-python",
   "name": "python",
   "nbconvert_exporter": "python",
   "pygments_lexer": "ipython3",
   "version": "3.9.7"
  }
 },
 "nbformat": 4,
 "nbformat_minor": 5
}
